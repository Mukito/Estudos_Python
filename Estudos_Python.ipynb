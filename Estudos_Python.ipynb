{
  "cells": [
    {
      "cell_type": "markdown",
      "metadata": {
        "id": "view-in-github",
        "colab_type": "text"
      },
      "source": [
        "<a href=\"https://colab.research.google.com/github/Mukito/21/blob/master/Estudos_Python.ipynb\" target=\"_parent\"><img src=\"https://colab.research.google.com/assets/colab-badge.svg\" alt=\"Open In Colab\"/></a>"
      ]
    },
    {
      "cell_type": "code",
      "execution_count": null,
      "metadata": {
        "id": "NJbbAIHaTmst"
      },
      "outputs": [],
      "source": []
    },
    {
      "cell_type": "markdown",
      "metadata": {
        "id": "SNmUA3czTXcg"
      },
      "source": [
        "***=================================================================***"
      ]
    },
    {
      "cell_type": "markdown",
      "metadata": {
        "id": "y9fZh5Nj0Ubr"
      },
      "source": [
        "*** 1 - Faça um Programa que mostre a mensagem \"Alo mundo\" na tela. ***"
      ]
    },
    {
      "cell_type": "code",
      "execution_count": null,
      "metadata": {
        "id": "t6oB5yDQ0Shz"
      },
      "outputs": [],
      "source": [
        "print('Ola Mundo ') "
      ]
    },
    {
      "cell_type": "markdown",
      "metadata": {
        "id": "i2zRat650B4N"
      },
      "source": [
        "*** 2 - Faça um Programa que peça um número e então mostre a mensagem O número informado foi [número].***"
      ]
    },
    {
      "cell_type": "code",
      "execution_count": null,
      "metadata": {
        "id": "BdBXYWbc1KUS"
      },
      "outputs": [],
      "source": [
        "num = int(input('Digite um numero: '))\n",
        "print(' o numero informado foi:', num)"
      ]
    },
    {
      "cell_type": "markdown",
      "metadata": {
        "id": "vQsAhNa40pgi"
      },
      "source": [
        "*** 3 - Faça um Programa que peça dois números e imprima a soma. ***"
      ]
    },
    {
      "cell_type": "code",
      "execution_count": null,
      "metadata": {
        "id": "3-oenlpnl-wJ"
      },
      "outputs": [],
      "source": [
        "num1 = int(input('Digite um numero: '))\n",
        "num2 = int(input('Digite um outro numero: '))\n",
        "soma = (num1 + num2)\n",
        "print('A soma dos numeros é: ', soma)"
      ]
    },
    {
      "cell_type": "markdown",
      "metadata": {
        "id": "QOJJAgI71k1y"
      },
      "source": [
        "***4 - Faça um Programa que peça as 4 notas bimestrais e mostre a média.***"
      ]
    },
    {
      "cell_type": "code",
      "execution_count": null,
      "metadata": {
        "id": "IpfQuJsj1q5J"
      },
      "outputs": [],
      "source": [
        "n1 = float(input('Digite sua 1 nota: '))\n",
        "n2 = float(input('Digite sua 2 nota: '))\n",
        "n3 = float(input('Digite sua 3 nota: '))\n",
        "n4 = float(input('Digite sua 4 nota: '))\n",
        "m = (n1 + n2 + n3 + n4)/4\n",
        "print('Sua media é: ', m)"
      ]
    },
    {
      "cell_type": "markdown",
      "metadata": {
        "id": "O5pNEwkV2jZo"
      },
      "source": [
        "***5 - Faça um Programa que converta metros para centímetros. ***"
      ]
    },
    {
      "cell_type": "code",
      "execution_count": null,
      "metadata": {
        "colab": {
          "base_uri": "https://localhost:8080/"
        },
        "id": "HMydc8yJ2qtR",
        "outputId": "c7079fdd-8ca1-4cec-fd3b-b3b0ea7b2a3e"
      },
      "outputs": [
        {
          "name": "stdout",
          "output_type": "stream",
          "text": [
            "Digite quantos metros: 5\n",
            "500.0 Centimetros\n"
          ]
        }
      ],
      "source": [
        "metros = float(input('Digite quantos metros: '))\n",
        "cen = metros * 100;\n",
        "print(cen, 'Centimetros')\n"
      ]
    },
    {
      "cell_type": "code",
      "execution_count": null,
      "metadata": {
        "colab": {
          "base_uri": "https://localhost:8080/"
        },
        "id": "5PNbhJ9uwK-N",
        "outputId": "e79c5e22-4ded-4437-eaad-9b94407c36f0"
      },
      "outputs": [
        {
          "name": "stdout",
          "output_type": "stream",
          "text": [
            "Digite o tamanho em metros: 10\n",
            "O valor 10.0m em centimetros é 1000cm\n",
            "O valor 10.0m em milimetros é 10000mm\n"
          ]
        }
      ],
      "source": [
        "metros = float(input('Digite o tamanho em metros: '))\n",
        "print('O valor {}m em centimetros é {:.0f}cm'.format(metros, metros * 100))\n",
        "print('O valor {}m em milimetros é {:.0f}mm'.format(metros, metros * 1000))\n",
        "#simples é facil"
      ]
    },
    {
      "cell_type": "markdown",
      "source": [],
      "metadata": {
        "id": "ZAfccmqDKgtP"
      }
    },
    {
      "cell_type": "markdown",
      "metadata": {
        "id": "UaeZhQkv3RZn"
      },
      "source": [
        "***6 - Faça um Programa que peça o raio de um círculo, calcule e mostre sua área.***"
      ]
    },
    {
      "cell_type": "code",
      "execution_count": null,
      "metadata": {
        "colab": {
          "base_uri": "https://localhost:8080/"
        },
        "id": "fgy8WmI53NFQ",
        "outputId": "e591f25a-7b29-436d-da50-b2f1e1d69fec"
      },
      "outputs": [
        {
          "name": "stdout",
          "output_type": "stream",
          "text": [
            "Informe o Raio do Circulo: 5\n",
            "A área é de:   78.5\n"
          ]
        }
      ],
      "source": [
        "raio = float(input('Informe o Raio do Circulo: '))\n",
        "area = 3.14 * raio * raio \n",
        "print('A área é de:  ', area)"
      ]
    },
    {
      "cell_type": "code",
      "execution_count": null,
      "metadata": {
        "colab": {
          "base_uri": "https://localhost:8080/"
        },
        "id": "HXSZVxbn3zaX",
        "outputId": "8c4975ac-a57e-48ff-e3c9-bfa90874f55b"
      },
      "outputs": [
        {
          "name": "stdout",
          "output_type": "stream",
          "text": [
            "Informe o Raio do Circulo: 5\n",
            "A área é de:  78.53981633974483\n"
          ]
        }
      ],
      "source": [
        "import math\n",
        "raio = float(input('Informe o Raio do Circulo: '))\n",
        "area = math.pi * raio * raio #pode ser substituido o raio * raio por (raio ** 2)\n",
        "print('A área é de: ', area)\n"
      ]
    },
    {
      "cell_type": "markdown",
      "metadata": {
        "id": "nA5zobdy41Xl"
      },
      "source": [
        "***7- Faça um Programa que calcule a área de um quadrado, em seguida mostre o dobro desta área para o usuário.***"
      ]
    },
    {
      "cell_type": "code",
      "execution_count": null,
      "metadata": {
        "colab": {
          "base_uri": "https://localhost:8080/"
        },
        "id": "JR6C1fRF46EN",
        "outputId": "0e6ac319-5683-4747-8802-c3b2610d6f3d"
      },
      "outputs": [
        {
          "output_type": "stream",
          "name": "stdout",
          "text": [
            "Digite o lado do quadrado: 4\n",
            "A area do Quadrado é 16 e o dobro é  256\n"
          ]
        }
      ],
      "source": [
        "lado = int(input('Digite o lado do quadrado: '))\n",
        "#largura = input('Digite a largura do quadrado: ')\n",
        "area = (lado * lado)\n",
        "dobro = area * area\n",
        "#print('A area do Quadrado é {} e o dobro é {}').format(area, dobro)\n",
        "print('A area do Quadrado é', area, 'e o dobro é ', dobro)"
      ]
    },
    {
      "cell_type": "markdown",
      "source": [
        "**8- Faça um Programa que pergunte quanto você ganha por hora e o número de horas trabalhadas no mês. Calcule e mostre o total do seu salário no referido mês.**"
      ],
      "metadata": {
        "id": "fXW4wPdsNa8y"
      }
    },
    {
      "cell_type": "code",
      "source": [
        "h = float(input('Informe o valor da hora trabalhada: '))\n",
        "d = int(input('Informe quantas horas Trabalha por Dia: '))\n",
        "s = int(input('Informe quantos dias na semana: '))\n",
        "m = (h * d) * s\n",
        "print('Seu Salario no mes é de R$', m)"
      ],
      "metadata": {
        "colab": {
          "base_uri": "https://localhost:8080/"
        },
        "id": "0orJK08nNf8p",
        "outputId": "2e318fce-40de-4ff8-a3c5-befc69bb1571"
      },
      "execution_count": null,
      "outputs": [
        {
          "output_type": "stream",
          "name": "stdout",
          "text": [
            "Informe o valor da hora trabalhada: 100\n",
            "Informe quantas horas Trabalha por Dia: 8\n",
            "Informe quantos dias na semana: 5\n",
            "Seu Salario no mes é de R$ 4000.0\n"
          ]
        }
      ]
    },
    {
      "cell_type": "markdown",
      "source": [
        "**9- Faça um Programa que peça a temperatura em graus Fahrenheit, transforme e mostre a temperatura em graus Celsius.\n",
        "C = 5 * ((F-32) / 9).**"
      ],
      "metadata": {
        "id": "eatXMpkPOghA"
      }
    },
    {
      "cell_type": "code",
      "source": [
        "f = float(input('Digite quantos Fahrenheit: '))\n",
        "c = 5 * ((f-32) / 9)\n",
        "print('A temperatura convertida para Celsius é: ', c,'°')"
      ],
      "metadata": {
        "colab": {
          "base_uri": "https://localhost:8080/"
        },
        "id": "-hhA01sjOkCg",
        "outputId": "291d62af-8743-4826-c64d-380c5f274e37"
      },
      "execution_count": null,
      "outputs": [
        {
          "output_type": "stream",
          "name": "stdout",
          "text": [
            "Digite quantos Fahrenheit: 1\n",
            "A tempera tude convertida para Celsius é:  -17.22222222222222 °\n"
          ]
        }
      ]
    },
    {
      "cell_type": "markdown",
      "source": [
        "**10- Faça um Programa que peça a temperatura em graus Celsius, transforme e mostre em graus Fahrenheit.**"
      ],
      "metadata": {
        "id": "HvB2Zq1bPV3W"
      }
    },
    {
      "cell_type": "code",
      "source": [
        "c = float(input('Digite quantos graus °Celsius '))\n",
        "f = c * (9 /5) + 32\n",
        "print('A temperatura convertida para °Fahrenheit: ', f, '°')\n"
      ],
      "metadata": {
        "colab": {
          "base_uri": "https://localhost:8080/"
        },
        "id": "5Fn_fJ_TPb_2",
        "outputId": "0c847aa6-752a-4dc9-b5a0-1b2661545be3"
      },
      "execution_count": null,
      "outputs": [
        {
          "output_type": "stream",
          "name": "stdout",
          "text": [
            "Digite quantos graus °Celsius 0\n",
            "A temperatura convertida para °Fahrenheit:  32.0\n"
          ]
        }
      ]
    },
    {
      "cell_type": "markdown",
      "source": [
        "**11- Faça um Programa que peça 2 números inteiros e um número real. Calcule e mostre:\n",
        "<br>o produto do dobro do primeiro com metade do segundo .\n",
        "<br>a soma do triplo do primeiro com o terceiro.\n",
        "<br>o terceiro elevado ao cubo.**"
      ],
      "metadata": {
        "id": "AuTLXyCMRYK7"
      }
    },
    {
      "cell_type": "code",
      "source": [
        "num1 = int(input('Digite um numero Inteiro: '))\n",
        "num2 = int(input('Digite outro numero inteiro: '))\n",
        "num3 = float(input('Digite um numero REAL: '))\n",
        "\n",
        "a = (num1 * 2) + (num2 / 2)\n",
        "b = (num2 * 3) + num3\n",
        "c = num3 ** 3\n",
        "\n",
        "print('A - ', a)\n",
        "print('B - ', b)\n",
        "print('C - ', c)"
      ],
      "metadata": {
        "colab": {
          "base_uri": "https://localhost:8080/"
        },
        "id": "uQjlGpgvRk7y",
        "outputId": "c1363127-c5c3-48c1-a457-b306535d3378"
      },
      "execution_count": null,
      "outputs": [
        {
          "output_type": "stream",
          "name": "stdout",
          "text": [
            "Digite um numero Inteiro: 5\n",
            "Digite outro numero inteiro: 2\n",
            "Digite um numero REAL3.14\n",
            "A -  11.0\n",
            "B -  9.14\n",
            "C -  30.959144000000002\n"
          ]
        }
      ]
    },
    {
      "cell_type": "markdown",
      "source": [
        "**12 - Tendo como dados de entrada a altura de uma pessoa, construa um algoritmo que calcule seu peso ideal, usando a seguinte fórmula: (72.7*altura) - 58**"
      ],
      "metadata": {
        "id": "JKZ1ohKPTLWQ"
      }
    },
    {
      "cell_type": "code",
      "source": [
        "alt = float(input('Informe sua altura: '))\n",
        "idh = (72.7 * alt) - 58\n",
        "print('Seu peso Ideal é: ', idh)\n",
        "\n"
      ],
      "metadata": {
        "colab": {
          "base_uri": "https://localhost:8080/"
        },
        "id": "Lzt2jDttT1uv",
        "outputId": "13464c76-fc60-44c9-f858-62bd72b36d31"
      },
      "execution_count": null,
      "outputs": [
        {
          "output_type": "stream",
          "name": "stdout",
          "text": [
            "Informe sua altura: 1.84\n",
            "Seu peso Ideal é:  75.768\n"
          ]
        }
      ]
    },
    {
      "cell_type": "markdown",
      "source": [
        "**13 - Tendo como dado de entrada a altura (h) de uma pessoa, construa um algoritmo que calcule seu peso ideal, utilizando as seguintes fórmulas: <br>Para homens: (72.7*h) - 58\n",
        "<br>Para mulheres: (62.1*h) - 44.7**"
      ],
      "metadata": {
        "id": "ueQqoHUzZOt9"
      }
    },
    {
      "cell_type": "code",
      "source": [
        "sexo = str(input('Digite (1)-Homem ou (2)-Mulher '))\n",
        "alt = float(input('Informe sua altura: '))\n",
        "if sexo == '1':\n",
        "  idh = (72.7 * alt) -58\n",
        "  print('Seu peso Ideal Masculino é: ', idh)\n",
        "elif sexo == '2':\n",
        "  idm =  (62.2 * alt) - 44.7\n",
        "  print('Seu peso Ideal Feminino é: ', idm)\n",
        "else:\n",
        "  print('Opção Incorreta!!!')    "
      ],
      "metadata": {
        "colab": {
          "base_uri": "https://localhost:8080/"
        },
        "id": "r3uVLtvtZlRD",
        "outputId": "d8b2e788-1dce-400f-e9e0-32d4400903f7"
      },
      "execution_count": null,
      "outputs": [
        {
          "output_type": "stream",
          "name": "stdout",
          "text": [
            "Digite (1)-Homem ou (2)-Mulher 3\n",
            "Informe sua altura: 1.9\n",
            "Opção Incorreta!!!\n"
          ]
        }
      ]
    },
    {
      "cell_type": "markdown",
      "source": [
        "**14 - João Papo-de-Pescador, homem de bem, comprou um microcomputador para controlar o rendimento diário de seu trabalho. Toda vez que ele traz um peso de peixes maior que o estabelecido pelo regulamento de pesca do estado de São Paulo (50 quilos) deve pagar uma multa de R$ 4,00 por quilo excedente. João precisa que você faça um programa que leia a variável peso (peso de peixes) e calcule o excesso. Gravar na variável excesso a quantidade de quilos além do limite e na variável multa o valor da multa que João deverá pagar. Imprima os dados do programa com as mensagens adequadas.**"
      ],
      "metadata": {
        "id": "eYr3bVymbOgo"
      }
    },
    {
      "cell_type": "code",
      "source": [
        "kg = float(input('Informe em Kg a quantidade de PEIXE: '))\n",
        "if kg > 50:\n",
        "  multa = (kg - 50) * 4\n",
        "  print('Você excedeu o limite, sua multa é de R$', multa)\n",
        "else:\n",
        "  print('Dentro do Limite estipulado!! Obrigado')  "
      ],
      "metadata": {
        "colab": {
          "base_uri": "https://localhost:8080/"
        },
        "id": "sQ0OEBmAbVwv",
        "outputId": "63639b57-882f-4b0d-a1ab-39be7e143409"
      },
      "execution_count": null,
      "outputs": [
        {
          "output_type": "stream",
          "name": "stdout",
          "text": [
            "Informe em Kg a quantidade de PEIXE: 50.5\n",
            "Você excedeu o limite, sua multa é de R$ 2.0\n"
          ]
        }
      ]
    },
    {
      "cell_type": "markdown",
      "source": [
        "**15 - Faça um Programa que pergunte quanto você ganha por hora e o número de horas trabalhadas no mês. Calcule e mostre o total do seu salário no referido mês, sabendo-se que são descontados 11% para o Imposto de Renda, 8% para o INSS e 5% para o sindicato, faça um programa que nos dê:\n",
        "<br>salário bruto.\n",
        "<br>quanto pagou ao INSS.\n",
        "<br>quanto pagou ao sindicato.\n",
        "<br>o salário líquido.\n",
        "<br>calcule os descontos e o salário líquido, conforme a tabela abaixo:**"
      ],
      "metadata": {
        "id": "sV5Gtvbfco5e"
      }
    },
    {
      "cell_type": "code",
      "source": [
        "h = float(input('Informe o valor por hora trabalhada: R$ '))\n",
        "d = int(input('Informe quantas horas por Dia: '))\n",
        "s = int(input('Quantas dias por semana: '))\n",
        "m = (h * d) * s\n",
        "\n",
        "sb = m\n",
        "inss = ((sb * 8) / 100) #desconto INSS\n",
        "a = (m - inss) - m\n",
        "ir = ((sb * 11) / 100) #desconto IR\n",
        "b = (m - ir) - m\n",
        "sindicato = ((sb * 5) / 100) #desconto Sindicato\n",
        "c = (m - sindicato) - m\n",
        "#------------------------------------------\n",
        "desc = (((m - a) - b) - c) - sb  #total Desconto\n",
        "sl = m - desc   # Salario liquido\n",
        "\n",
        "print('Salario Bruto R$', sb)\n",
        "print('INSS: ', a)\n",
        "print('IR: ', b)\n",
        "print('Sindicato: ', c)\n",
        "print('Total Desconto ', desc)\n",
        "print('Salario Liquido: R$', sl)"
      ],
      "metadata": {
        "colab": {
          "base_uri": "https://localhost:8080/"
        },
        "id": "QIJexmxhc8cF",
        "outputId": "56d398ab-53c0-48c7-8ca9-0d0fb087e1b9"
      },
      "execution_count": null,
      "outputs": [
        {
          "output_type": "stream",
          "name": "stdout",
          "text": [
            "Informe o valor por hora trabalhada: R$ 100\n",
            "Informe quantas horas por Dia: 8\n",
            "Quantas dias por semana: 5\n",
            "Salario Bruto R$ 4000.0\n",
            "INSS:  -320.0\n",
            "IR:  -440.0\n",
            "Sindicato:  -200.0\n",
            "Total Desconto  960.0\n",
            "Salario Liquido: R$ 3040.0\n"
          ]
        }
      ]
    },
    {
      "cell_type": "markdown",
      "source": [
        "**16 - Faça um programa para uma loja de tintas. O programa deverá pedir o tamanho em metros quadrados da área a ser pintada. Considere que a cobertura da tinta é de 1 litro para cada 3 metros quadrados e que a tinta é vendida em latas de 18 litros, que custam R$ 80,00. Informe ao usuário a quantidades de latas de tinta a serem compradas e o preço total.**"
      ],
      "metadata": {
        "id": "6QUcAEhyj40Y"
      }
    },
    {
      "cell_type": "code",
      "source": [
        "metros = float(input('Informe o tamanho em Metros Quadrados M²: '))\n",
        "#informe quantas latas de Tintas\n",
        "#informe o Valor (cada lata R$80)\n",
        "lata = (metros / 54)\n",
        "preco = (lata * 80)\n",
        "print('O Tamanho é: ', metros, 'M²')\n",
        "print('Precisara de', int(lata)+1,' Latas de Tinta ')\n",
        "print('Total de R$', preco)\n"
      ],
      "metadata": {
        "colab": {
          "base_uri": "https://localhost:8080/"
        },
        "id": "q48csk4pj9NC",
        "outputId": "afd4c34b-f14c-49a8-aadf-27401e3195ad"
      },
      "execution_count": null,
      "outputs": [
        {
          "output_type": "stream",
          "name": "stdout",
          "text": [
            "Informe o tamanho em Metros Quadrados M²: 300\n",
            "O Tamanho é:  300.0 M²\n",
            "Precisara de 6  Latas de Tinta \n",
            "Total de R$ 444.44444444444446\n"
          ]
        }
      ]
    },
    {
      "cell_type": "markdown",
      "source": [
        "#======================================================================"
      ],
      "metadata": {
        "id": "M1TS33hXARDu"
      }
    },
    {
      "cell_type": "code",
      "source": [
        "metros = int(input('Informe em metros Quadrados M²: '))\n",
        "litros = metros / 3\n",
        "\n",
        "if metros % 54 == 0:\n",
        "  latas = metros / 54\n",
        "else:\n",
        "  latas = int(metros / 54) + 1\n",
        "\n",
        "preco = latas * 80\n",
        "print('%d Latas' %latas)\n",
        "print('R$ %.2f' %preco)\n"
      ],
      "metadata": {
        "colab": {
          "base_uri": "https://localhost:8080/"
        },
        "id": "j6xf0VBgAOuO",
        "outputId": "821b9f17-a14d-4718-abef-1259ddadc2f7"
      },
      "execution_count": null,
      "outputs": [
        {
          "output_type": "stream",
          "name": "stdout",
          "text": [
            "Informe em metros Quadrados M²: 300\n",
            "6 Latas\n",
            "R$ 480.00\n"
          ]
        }
      ]
    },
    {
      "cell_type": "markdown",
      "source": [
        "**17 - Faça um Programa para uma loja de tintas. O programa deverá pedir o tamanho em metros quadrados da área a ser pintada. Considere que a cobertura da tinta é de 1 litro para cada 6 metros quadrados e que a tinta é vendida em latas de 18 litros, que custam R$ 80,00 ou em galões de 3,6 litros, que custam R$ 25,00.**<BR>\n",
        "**Informe ao usuário as quantidades de tinta a serem compradas e os respectivos preços em 3 situações:**\n",
        "**<BR>comprar apenas latas de 18 litros;\n",
        "<BR>comprar apenas galões de 3,6 litros;\n",
        "<BR>misturar latas e galões, de forma que o desperdício de tinta seja menor. <BR>Acrescente 10% de folga e sempre arredonde os valores para cima, isto é, considere latas cheias.**"
      ],
      "metadata": {
        "id": "YOe-Kr8eBfN8"
      }
    },
    {
      "cell_type": "code",
      "source": [
        "metros = int(input('Informe em metros Quadrados M²: '))\n",
        "litros = metros / 6\n",
        "if(metros%108 > 0 and metros%21.6>0):\n",
        "  latas = metros// 108\n",
        "  latas = latas + 1\n",
        "  precol = latas * 80\n",
        "  galao = metros// 21.6\n",
        "  galao = galao + 1 \n",
        "  precog = galao * 25\n",
        "  print('Vai precisar de: {} latas de 18L e vai gastar {} Reais ' .format(latas, precol))\n",
        "else:\n",
        "  latas = metros/108\n",
        "  precol = latas * 80   \n",
        "  galao =  metros/21.6\n",
        "  precog = galao \n",
        "  print('Voce vai pre precisar apenas de {} latas de 18L e vai gastar {}Reais'.format(latas, precol))\n",
        "  print('Voce vai pre precisar apenas de {} latas de 3,4L e vai gastar {}Reais'.format(latas, precol))\n",
        "\n",
        "      "
      ],
      "metadata": {
        "colab": {
          "base_uri": "https://localhost:8080/"
        },
        "id": "gdX1w_7dCAjM",
        "outputId": "fe0d1140-3600-4f5a-cd96-dfc6cf447015"
      },
      "execution_count": null,
      "outputs": [
        {
          "output_type": "stream",
          "name": "stdout",
          "text": [
            "Informe em metros Quadrados M²: 6\n",
            "Vai precisar de: 1 latas de 18L e vai gastar 80 Reais \n"
          ]
        }
      ]
    },
    {
      "cell_type": "code",
      "source": [
        "def calculo_loja_tintas(litro):\n",
        "    # LATAS\n",
        "    latas = litro / 18\n",
        "    if latas % 18 != 0:\n",
        "        latas += 1\n",
        "    preco_das_latas= latas * 80\n",
        "\n",
        "    # GALOES\n",
        "    galoes = litro / 3.6\n",
        "    if galoes % 3.6 != 0:\n",
        "        galoes += 1\n",
        "    preco_dos_galoes = galoes * 25\n",
        "\n",
        "    mistura_lata = int(litro / 18.0)\n",
        "    mistura_galao = int((litro - (mistura_lata * 18)) / 3.6)\n",
        "    if litro - (mistura_lata * 18) % 3.6 != 0:\n",
        "        mistura_galao += 1\n",
        "    galoes_total = (mistura_lata * 80) + (mistura_galao * 25)\n",
        "\n",
        "\n",
        "    print(f'''\n",
        "        Total de Litros necessário para pintar: {litro:.0f}L\n",
        "        Apenas latas de 18 litros: {latas:.0f} Und. - Preço: R$ {preco_das_latas:.2f}\n",
        "        Apenas galões de 3.6 litros: {galoes:.0f} Und. - Preço: R$ {preco_dos_galoes:.2f}\n",
        "        Mistura: {mistura_lata:.0f} Latas e {mistura_galao:.0f} Galões = \n",
        "        R$ {galoes_total:.2f}''')\n",
        "\n",
        "area_pintura = float(input('Tamanho em metros quadrados da área a ser pintada: '))\n",
        "litros = area_pintura / 6  * 1.1\n",
        "calculo_loja_tintas(litros)"
      ],
      "metadata": {
        "colab": {
          "base_uri": "https://localhost:8080/"
        },
        "id": "iZIRqvpMx622",
        "outputId": "99d717fb-7d4e-4765-8356-d0b250b83503"
      },
      "execution_count": null,
      "outputs": [
        {
          "output_type": "stream",
          "name": "stdout",
          "text": [
            "Tamanho em metros quadrados da área a ser pintada: 200\n",
            "\n",
            "        Total de Litros necessário para pintar: 37L\n",
            "        Apenas latas de 18 litros: 3 Und. - Preço: R$ 242.96\n",
            "        Apenas galões de 3.6 litros: 11 Und. - Preço: R$ 279.63\n",
            "        Mistura: 2 Latas e 1 Galões = \n",
            "        R$ 185.00\n"
          ]
        }
      ]
    },
    {
      "cell_type": "markdown",
      "source": [
        "**18 - Faça um programa que peça o tamanho de um arquivo para download (em MB) e a velocidade de um link de Internet (em Mbps), calcule e informe o tempo aproximado de download do arquivo usando este link (em minutos).**"
      ],
      "metadata": {
        "id": "UYcK5UotxiRa"
      }
    },
    {
      "cell_type": "code",
      "source": [
        "mb = float(input('Informe em (MB) o tamanho do arquivo: '))\n",
        "vel = float(input('Velocidade de Internet em (MBps): '))\n",
        "print('Tempo aproximado de download: %.0f Minutos ' %((mb / vel) * 60))\n"
      ],
      "metadata": {
        "colab": {
          "base_uri": "https://localhost:8080/"
        },
        "id": "0ZbYhcSGxnyp",
        "outputId": "53d60272-2447-47d4-a8c2-f8c21fcbf819"
      },
      "execution_count": null,
      "outputs": [
        {
          "output_type": "stream",
          "name": "stdout",
          "text": [
            "Informe em (MB) o tamanho do arquivo: 1000\n",
            "Velocidade de Internet em (MBps): 2000\n",
            "Tempo aproximado de download: 30 Minutos \n"
          ]
        }
      ]
    },
    {
      "cell_type": "markdown",
      "metadata": {
        "id": "Q-66Ph7ixyeB"
      },
      "source": [
        "========================================================\n"
      ]
    },
    {
      "cell_type": "markdown",
      "source": [
        "***Curso em Video Mundo 2***"
      ],
      "metadata": {
        "id": "lLufLDdCtuFM"
      }
    },
    {
      "cell_type": "code",
      "execution_count": null,
      "metadata": {
        "colab": {
          "base_uri": "https://localhost:8080/"
        },
        "id": "bW9aHM6byhCR",
        "outputId": "88883978-3b8f-497f-a624-2bd9eb4ab93e"
      },
      "outputs": [
        {
          "name": "stdout",
          "output_type": "stream",
          "text": [
            "Digite o dia do seu nascimento: 16\n",
            "Digite o mes do seu nascimento: maio\n",
            "Digite o Ano do seu Nascimento: 1979\n",
            "Você nasceu no dia 16 de maio de 1979\n"
          ]
        }
      ],
      "source": [
        "from ast import Str\n",
        "from pickle import STRING\n",
        "dia = int(input('Digite o dia do seu nascimento: '))\n",
        "mes = str(input('Digite o mes do seu nascimento: '))\n",
        "ano = int(input('Digite o Ano do seu Nascimento: '))\n",
        "print('Você nasceu no dia {} de {} de {}'.format(dia, mes, ano))\n"
      ]
    },
    {
      "cell_type": "code",
      "execution_count": null,
      "metadata": {
        "colab": {
          "base_uri": "https://localhost:8080/"
        },
        "id": "_ySKI1j15_aU",
        "outputId": "6fad908e-3606-431f-e1e6-c730e09b80d9"
      },
      "outputs": [
        {
          "name": "stdout",
          "output_type": "stream",
          "text": [
            "Primeiro numero: 9\n",
            "Segundo numero: 1\n",
            "Primeiro numero é maior\n"
          ]
        }
      ],
      "source": [
        "n1 = int(input('Primeiro numero: '))\n",
        "n2 = int(input('Segundo numero: '))\n",
        "if n1 > n2:\n",
        "  print('Primeiro numero é maior')\n",
        "elif n1 < n2:\n",
        "  print('Segundo numero maior')\n",
        "else: \n",
        "  print('Numeros Iguais')\n"
      ]
    },
    {
      "cell_type": "markdown",
      "source": [
        "=============================================================================="
      ],
      "metadata": {
        "id": "Mt0xOFDnxbOe"
      }
    },
    {
      "cell_type": "code",
      "source": [
        "#dia = int(input('Digite o DIA do nascimento: '))\n",
        "#mes = int(input('Digite o MES do nascimento: '))\n",
        "ano = int(input('Digite o ANO do nascimento: '))\n",
        "idade = 2022 - ano\n",
        "\n",
        "if idade < 18:\n",
        "  print('Voce tem {} de IDADE'.format(idade))\n",
        "  print('Falta ', (18 - idade), 'anos ara se alistar' )\n",
        "elif idade > 18:\n",
        "  print('Voce tem {} de IDADE '.format(idade))\n",
        "  print('Maior de IDADE, voce já se Alistou?? ')\n",
        "  print('Deveria se alistar a ', (idade - 18), 'anos atras: ') \n",
        "else:\n",
        "  print('Procure uma Junta Militar para o alistamento!!! ', idade, 'Anos')   \n",
        "\n",
        "\n"
      ],
      "metadata": {
        "colab": {
          "base_uri": "https://localhost:8080/"
        },
        "id": "XQzUl1-WxeOO",
        "outputId": "67ddc3ca-05e7-4a3f-dce4-fa5d8c592048"
      },
      "execution_count": null,
      "outputs": [
        {
          "output_type": "stream",
          "name": "stdout",
          "text": [
            "Digite o ANO do nascimento: 2005\n",
            "Voce tem 17 de IDADE\n",
            "Falta  1 anos ara se alistar\n"
          ]
        }
      ]
    },
    {
      "cell_type": "code",
      "source": [
        "from datetime import date\n",
        "atual = date.today().year\n",
        "\n",
        "nasc = int(input('Ano de Nascimento: '))\n",
        "idade = atual - nasc\n",
        "print('Quem Nasceu em {} tem {} anos em {}. '.format(nasc, idade, atual))\n",
        "if idade == 18:\n",
        "  print(' Voce tem que se alistar IMEDIATAMENTE! ')\n",
        "elif idade < 18:\n",
        "  print('Voce ainda nao tem 18 Anos. Ainda falta {} anos para o alistamento. '.format(18 - idade))\n",
        "else:\n",
        "  print('Voce já deveria ter se alistado há {} anos. '.format(idade - 18))  "
      ],
      "metadata": {
        "colab": {
          "base_uri": "https://localhost:8080/"
        },
        "id": "o99Go6N91bwY",
        "outputId": "475ddfe5-c49b-4e45-ff9e-35fed93c3c78"
      },
      "execution_count": null,
      "outputs": [
        {
          "output_type": "stream",
          "name": "stdout",
          "text": [
            "Ano de Nascimento: 2006\n",
            "Quem Nasceu em 2006 tem 16 anos em 2022. \n",
            "Voce ainda nao tem 18 Anos. Ainda falta 2 anos para o alistamento. \n"
          ]
        }
      ]
    },
    {
      "cell_type": "markdown",
      "source": [
        "================= **Programa para calcular a média de um aluno** ================="
      ],
      "metadata": {
        "id": "y06BI4ZM8eok"
      }
    },
    {
      "cell_type": "code",
      "source": [
        "n1 = float(input('1° nota: '))\n",
        "n2 = float(input('2° nota: '))\n",
        "media = (n1 + n2)/ 2\n",
        "\n",
        "print('Tirando {:.1f} e {:.1f}, a média do aluno é {:.1f}'.format(n1, n2, media))\n",
        "\n",
        "if media < 5.0:\n",
        "  print('Sua média é de {:.1f} - REPROVADO'.format(media))\n",
        "elif (media >= 5.0) and (media <= 6.9):\n",
        "  print('Sua média é de {:.1f} - RECUPERAÇÂO'.format(media))\n",
        "else:\n",
        "  print('Sua média é de {:.1f} - APROVADO'.format(media))     "
      ],
      "metadata": {
        "colab": {
          "base_uri": "https://localhost:8080/"
        },
        "id": "dKJguFY980tM",
        "outputId": "034c477d-0c88-4cdc-83e7-3d4ec28b840d"
      },
      "execution_count": 29,
      "outputs": [
        {
          "output_type": "stream",
          "name": "stdout",
          "text": [
            "1° nota: 5.5\n",
            "2° nota: 6\n",
            "Tirando 5.5 e 6.0, a média do aluno é 5.8\n",
            "Sua média é de 5.8 - RECUPERAÇÂO\n"
          ]
        }
      ]
    },
    {
      "cell_type": "markdown",
      "source": [
        "========================== ***Classificação do atleta*** ========================"
      ],
      "metadata": {
        "id": "htq2YISbA80d"
      }
    },
    {
      "cell_type": "code",
      "source": [
        "from datetime import date\n",
        "atual = date.today().year\n",
        "\n",
        "nasc = int(input('Ano de Nascimento: '))\n",
        "idade = (atual - nasc)\n",
        "print('O Atleta tem {} anos. '.format(idade))\n",
        "\n",
        "if idade <= 9:\n",
        "  print('Classificação: MIRIM')\n",
        "elif idade <= 14:\n",
        "  print('Classificação: INFANTIL')\n",
        "elif idade <= 19:\n",
        "  print('Classificação: JUNIOR ')\n",
        "elif idade <= 25:\n",
        "  print('Classificação: SÊNIOR ')\n",
        "else:\n",
        "  print('Classificação: MASTER') \n"
      ],
      "metadata": {
        "colab": {
          "base_uri": "https://localhost:8080/"
        },
        "id": "bSwqjoDDB78y",
        "outputId": "421c58d4-3ec5-4795-d961-840c5388d984"
      },
      "execution_count": 36,
      "outputs": [
        {
          "output_type": "stream",
          "name": "stdout",
          "text": [
            "Ano de Nascimento: 2001\n",
            "O Atleta tem 21 anos. \n",
            "Classificação: SÊNIOR \n"
          ]
        }
      ]
    },
    {
      "cell_type": "markdown",
      "source": [
        "** DESAFIO DO TRIANGULO***"
      ],
      "metadata": {
        "id": "zO284FtPMHA8"
      }
    },
    {
      "cell_type": "markdown",
      "source": [
        "– EQUILÁTERO: todos os lados iguais\n",
        "\n",
        "– ISÓSCELES: dois lados iguais, um diferente\n",
        "\n",
        "– ESCALENO: todos os lados diferentes"
      ],
      "metadata": {
        "id": "MScT_7MVQAqt"
      }
    },
    {
      "cell_type": "code",
      "source": [
        "r1 = float(input('Primeiro Segmento: '))\n",
        "r2 = float(input('Segundo Segmento: '))\n",
        "r3 = float(input('Terceiro Segmento: '))\n",
        "\n",
        "if r1 < r2 + r3 and r2 < r1+ r3 and r3 < r1 + r2:\n",
        "  print('PODEM FORMAR TRIANGULO ', end='')\n",
        "  if r1 == r2 == r3:  #r1 == r2 and r1 == r3 and r2 == r3:\n",
        "    print('EQUILÁTERO')\n",
        "  elif r1 != r2 != r3 != r1: #(r1 != r2) and (r1 != r3) and (r2 != r3):\n",
        "    print('ESCALENO')\n",
        "  else:\n",
        "    print('ISOSCELES')\n",
        "else:\n",
        "  print('NÂO PODEM FORMAR TRIANGULO')  \n",
        "\n",
        "  "
      ],
      "metadata": {
        "colab": {
          "base_uri": "https://localhost:8080/"
        },
        "id": "DEP1F0dsMLKT",
        "outputId": "468ad7ea-e982-4489-ec9a-0ea471c42fcd"
      },
      "execution_count": 59,
      "outputs": [
        {
          "output_type": "stream",
          "name": "stdout",
          "text": [
            "Primeiro Segmento: 9\n",
            "Segundo Segmento: 7\n",
            "Terceiro Segmento: 8\n",
            "PODEM FORMAR TRIANGULO ESCALENO\n"
          ]
        },
        {
          "output_type": "execute_result",
          "data": {
            "text/plain": [
              "8"
            ]
          },
          "metadata": {},
          "execution_count": 59
        }
      ]
    }
  ],
  "metadata": {
    "colab": {
      "collapsed_sections": [],
      "provenance": [],
      "authorship_tag": "ABX9TyP+xkKcj2kHI61Q9iPVAOzw",
      "include_colab_link": true
    },
    "kernelspec": {
      "display_name": "Python 3",
      "name": "python3"
    },
    "language_info": {
      "name": "python"
    }
  },
  "nbformat": 4,
  "nbformat_minor": 0
}