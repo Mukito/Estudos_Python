{
  "nbformat": 4,
  "nbformat_minor": 0,
  "metadata": {
    "colab": {
      "provenance": [],
      "collapsed_sections": [],
      "authorship_tag": "ABX9TyNJKX+QWRBnRXw9pt3ZspTt",
      "include_colab_link": true
    },
    "kernelspec": {
      "name": "python3",
      "display_name": "Python 3"
    },
    "language_info": {
      "name": "python"
    }
  },
  "cells": [
    {
      "cell_type": "markdown",
      "metadata": {
        "id": "view-in-github",
        "colab_type": "text"
      },
      "source": [
        "<a href=\"https://colab.research.google.com/github/Mukito/21/blob/master/Estudos_Python.ipynb\" target=\"_parent\"><img src=\"https://colab.research.google.com/assets/colab-badge.svg\" alt=\"Open In Colab\"/></a>"
      ]
    },
    {
      "cell_type": "code",
      "source": [],
      "metadata": {
        "id": "NJbbAIHaTmst"
      },
      "execution_count": null,
      "outputs": []
    },
    {
      "cell_type": "markdown",
      "source": [
        "***=================================================================***"
      ],
      "metadata": {
        "id": "SNmUA3czTXcg"
      }
    },
    {
      "cell_type": "markdown",
      "source": [
        "*** 1 - Faça um Programa que mostre a mensagem \"Alo mundo\" na tela. ***"
      ],
      "metadata": {
        "id": "y9fZh5Nj0Ubr"
      }
    },
    {
      "cell_type": "code",
      "source": [
        "print('Ola Mundo ') "
      ],
      "metadata": {
        "id": "t6oB5yDQ0Shz"
      },
      "execution_count": null,
      "outputs": []
    },
    {
      "cell_type": "markdown",
      "source": [
        "*** 2 - Faça um Programa que peça um número e então mostre a mensagem O número informado foi [número].***"
      ],
      "metadata": {
        "id": "i2zRat650B4N"
      }
    },
    {
      "cell_type": "code",
      "source": [
        "num = int(input('Digite um numero: '))\n",
        "print(' o numero informado foi:', num)"
      ],
      "metadata": {
        "id": "BdBXYWbc1KUS"
      },
      "execution_count": null,
      "outputs": []
    },
    {
      "cell_type": "markdown",
      "source": [
        "*** 3 - Faça um Programa que peça dois números e imprima a soma. ***"
      ],
      "metadata": {
        "id": "vQsAhNa40pgi"
      }
    },
    {
      "cell_type": "code",
      "execution_count": null,
      "metadata": {
        "id": "3-oenlpnl-wJ"
      },
      "outputs": [],
      "source": [
        "num1 = int(input('Digite um numero: '))\n",
        "num2 = int(input('Digite um outro numero: '))\n",
        "soma = (num1 + num2)\n",
        "print('A soma dos numeros é: ', soma)"
      ]
    },
    {
      "cell_type": "markdown",
      "source": [
        "***4 - Faça um Programa que peça as 4 notas bimestrais e mostre a média.***"
      ],
      "metadata": {
        "id": "QOJJAgI71k1y"
      }
    },
    {
      "cell_type": "code",
      "source": [
        "n1 = float(input('Digite sua 1 nota: '))\n",
        "n2 = float(input('Digite sua 2 nota: '))\n",
        "n3 = float(input('Digite sua 3 nota: '))\n",
        "n4 = float(input('Digite sua 4 nota: '))\n",
        "m = (n1 + n2 + n3 + n4)/4\n",
        "print('Sua media é: ', m)"
      ],
      "metadata": {
        "id": "IpfQuJsj1q5J"
      },
      "execution_count": null,
      "outputs": []
    },
    {
      "cell_type": "markdown",
      "source": [
        "***5 - Faça um Programa que converta metros para centímetros. ***"
      ],
      "metadata": {
        "id": "O5pNEwkV2jZo"
      }
    },
    {
      "cell_type": "code",
      "source": [
        "metros = float(input('Digite quantos metros: '))\n",
        "cen = metros * 100;\n",
        "print(cen, 'Centimetros')\n"
      ],
      "metadata": {
        "id": "HMydc8yJ2qtR",
        "colab": {
          "base_uri": "https://localhost:8080/"
        },
        "outputId": "c7079fdd-8ca1-4cec-fd3b-b3b0ea7b2a3e"
      },
      "execution_count": null,
      "outputs": [
        {
          "output_type": "stream",
          "name": "stdout",
          "text": [
            "Digite quantos metros: 5\n",
            "500.0 Centimetros\n"
          ]
        }
      ]
    },
    {
      "cell_type": "code",
      "source": [
        "metros = float(input('Digite o tamanho em metros: '))\n",
        "print('O valor {}m em centimetros é {:.0f}cm'.format(metros, metros * 100))\n",
        "print('O valor {}m em milimetros é {:.0f}mm'.format(metros, metros * 1000))\n",
        "#simples é facil"
      ],
      "metadata": {
        "colab": {
          "base_uri": "https://localhost:8080/"
        },
        "id": "5PNbhJ9uwK-N",
        "outputId": "e79c5e22-4ded-4437-eaad-9b94407c36f0"
      },
      "execution_count": null,
      "outputs": [
        {
          "output_type": "stream",
          "name": "stdout",
          "text": [
            "Digite o tamanho em metros: 10\n",
            "O valor 10.0m em centimetros é 1000cm\n",
            "O valor 10.0m em milimetros é 10000mm\n"
          ]
        }
      ]
    },
    {
      "cell_type": "markdown",
      "source": [
        "***6 - Faça um Programa que peça o raio de um círculo, calcule e mostre sua área.***"
      ],
      "metadata": {
        "id": "UaeZhQkv3RZn"
      }
    },
    {
      "cell_type": "code",
      "source": [
        "raio = float(input('Informe o Raio do Circulo: '))\n",
        "area = 3.14 * raio * raio \n",
        "print('A área é de:  ', area)"
      ],
      "metadata": {
        "colab": {
          "base_uri": "https://localhost:8080/"
        },
        "id": "fgy8WmI53NFQ",
        "outputId": "e591f25a-7b29-436d-da50-b2f1e1d69fec"
      },
      "execution_count": 1,
      "outputs": [
        {
          "output_type": "stream",
          "name": "stdout",
          "text": [
            "Informe o Raio do Circulo: 5\n",
            "A área é de:   78.5\n"
          ]
        }
      ]
    },
    {
      "cell_type": "code",
      "source": [
        "import math\n",
        "raio = float(input('Informe o Raio do Circulo: '))\n",
        "area = math.pi * raio * raio #pode ser substituido o raio * raio por (raio ** 2)\n",
        "print('A área é de: ', area)\n"
      ],
      "metadata": {
        "colab": {
          "base_uri": "https://localhost:8080/"
        },
        "id": "HXSZVxbn3zaX",
        "outputId": "8c4975ac-a57e-48ff-e3c9-bfa90874f55b"
      },
      "execution_count": 2,
      "outputs": [
        {
          "output_type": "stream",
          "name": "stdout",
          "text": [
            "Informe o Raio do Circulo: 5\n",
            "A área é de:  78.53981633974483\n"
          ]
        }
      ]
    },
    {
      "cell_type": "markdown",
      "source": [
        "***7- Faça um Programa que calcule a área de um quadrado, em seguida mostre o dobro desta área para o usuário.***"
      ],
      "metadata": {
        "id": "nA5zobdy41Xl"
      }
    },
    {
      "cell_type": "code",
      "source": [
        "lado = int(input('Digite o lado do quadrado: '))\n",
        "area = (lado * lado)\n",
        "dobro = area * area\n",
        "print('A Area do Quadrado é', area)\n",
        "print('O Dobro é: ', dobro)\n",
        "print(\"O dobro da area do quadrado eh: %.2f \" % float(area * 2))"
      ],
      "metadata": {
        "colab": {
          "base_uri": "https://localhost:8080/"
        },
        "id": "JR6C1fRF46EN",
        "outputId": "fd2f37d9-b8f5-4504-a24f-d5b3123e6e48"
      },
      "execution_count": 12,
      "outputs": [
        {
          "output_type": "stream",
          "name": "stdout",
          "text": [
            "Digite o lado do quadrado: 8\n",
            "A Area do Quadrado é 64\n",
            "O Dobro é:  4096\n",
            "O dobro da area do quadrado eh: 128.00 \n"
          ]
        }
      ]
    },
    {
      "cell_type": "markdown",
      "source": [
        "***8- Faça um Programa que pergunte quanto você ganha por hora e o número de horas trabalhadas no mês. Calcule e mostre o total do seu salário no referido mês.*** "
      ],
      "metadata": {
        "id": "Ht8cxbzyDr2h"
      }
    },
    {
      "cell_type": "code",
      "source": [
        "h = float(input('Quanto ganha por hora Trabalhada?: '))\n",
        "d = int(input('Quantas horas trabalha por dia?: '))\n",
        "s = int(input('Quantas vezes na semana trabalha?: '))\n",
        "m = (h * d) * s\n",
        "print('No mes vc recebe um total de R$', m)"
      ],
      "metadata": {
        "id": "J8d5S8WRDvcJ",
        "outputId": "057fc04d-7e2a-4287-a5f0-566765f6e435",
        "colab": {
          "base_uri": "https://localhost:8080/"
        }
      },
      "execution_count": 19,
      "outputs": [
        {
          "output_type": "stream",
          "name": "stdout",
          "text": [
            "Quanto ganha por hora Trabalhada?: 35.5\n",
            "Quantas horas trabalha por dia?: 6\n",
            "Quantas vezes na semana trabalha?: 5\n",
            "No mes vc recebe um total de R$ 1065.0\n"
          ]
        }
      ]
    },
    {
      "cell_type": "markdown",
      "source": [
        "***9- Faça um Programa que peça a temperatura em graus Fahrenheit, transforme e mostre a temperatura em graus Celsius.***"
      ],
      "metadata": {
        "id": "O-cfE95M-cpi"
      }
    },
    {
      "cell_type": "code",
      "source": [
        "f = float(input('Digite quantos °Graus Fahrenheit: '))\n",
        "c = 5 * ((f-32)/9)\n",
        "print('A conversao de Fahrenheit para Ceus é: ', c) "
      ],
      "metadata": {
        "id": "DdqEoGZVBcMV",
        "outputId": "ad80cbb6-6fa6-4e5d-c331-453f6820e866",
        "colab": {
          "base_uri": "https://localhost:8080/"
        }
      },
      "execution_count": 14,
      "outputs": [
        {
          "output_type": "stream",
          "name": "stdout",
          "text": [
            "Digite quantos °Graus Fahrenheit: 1\n",
            "A conversao de Fahrenheit para Ceus é:  -17.22222222222222\n"
          ]
        }
      ]
    },
    {
      "cell_type": "markdown",
      "source": [
        "***10- Faça um Programa que peça a temperatura em graus Celsius, transforme e mostre em graus Fahrenheit.***"
      ],
      "metadata": {
        "id": "aHbP8p1mDP-S"
      }
    },
    {
      "cell_type": "code",
      "source": [
        "c = float(input('Informe quantos °Graus Celsius: '))\n",
        "f = (c * 1.8 + 32) # C × 1,8 + 32\n",
        "print('A conversao de Temperatura °Celsius para °Fahrenheit é: ', f)"
      ],
      "metadata": {
        "id": "noP9MNhWDcqa",
        "outputId": "41f71437-814c-42cd-df21-a2de09c5f391",
        "colab": {
          "base_uri": "https://localhost:8080/"
        }
      },
      "execution_count": 24,
      "outputs": [
        {
          "output_type": "stream",
          "name": "stdout",
          "text": [
            "Informe quantos °Graus Celsius: 1\n",
            "A conversao de Temperatura °Celsius para °Fahrenheit é:  33.8\n"
          ]
        }
      ]
    },
    {
      "cell_type": "markdown",
      "source": [
        "***11- Faça um Programa que peça 2 números inteiros e um número real. Calcule e mostre:\n",
        "(1)o produto do dobro do primeiro com metade do segundo .\n",
        "(2)a soma do triplo do primeiro com o terceiro.\n",
        "(3)o terceiro elevado ao cubo.***"
      ],
      "metadata": {
        "id": "rF7-67dxIrew"
      }
    },
    {
      "cell_type": "code",
      "source": [
        "num1 = int(input('Digite um numero inteiro: '))\n",
        "num2 = int(input('Digite outro numero inteiro: '))\n",
        "num3 = float(input('Digite um numero Real: '))\n",
        "\n",
        "print('Soma: ', ((2*num1) * (num2/2))) # 1 questao\n",
        "print('Produto: ', ((3*num2) + num3)) # 2 questao\n",
        "print('Cubo: ', (num3**3)) # 3 questao\n",
        "\n"
      ],
      "metadata": {
        "id": "6cE4aTxvIx1Y"
      },
      "execution_count": null,
      "outputs": []
    },
    {
      "cell_type": "markdown",
      "source": [
        "***12- Tendo como dados de entrada a altura de uma pessoa, construa um algoritmo que calcule seu peso ideal, usando a seguinte fórmula: (72.7*altura) - 58***"
      ],
      "metadata": {
        "id": "7yCoszLwMqMB"
      }
    },
    {
      "cell_type": "code",
      "source": [
        "sexo = str(input('Informe (1)-Home ou (2)-Mulher: ').upper())\n",
        "alt = float(input('Informe sua altura: '))\n",
        "#for sexo in sexo:\n",
        "if sexo == '1':\n",
        "    idh = ((72.7 * alt) - 58)\n",
        "    print('Seu peso Ideal Masculino é: ', idh)    \n",
        "elif sexo == '2':\n",
        "    idm = ((62.1 * alt) -44.7)\n",
        "    print('Seu peso Ideal Feminino é: ', idm)\n",
        "else:\n",
        "    print('Opção Incorreta!!! ')"
      ],
      "metadata": {
        "id": "hqMus630MzuZ",
        "outputId": "53d4e83d-c018-453b-eeed-c52478c64c2a",
        "colab": {
          "base_uri": "https://localhost:8080/"
        }
      },
      "execution_count": 38,
      "outputs": [
        {
          "output_type": "stream",
          "name": "stdout",
          "text": [
            "Informe (1)-Home ou (2)-Mulher: 5\n",
            "Informe sua altura: 180\n",
            "Opção Incorreta!!! \n"
          ]
        }
      ]
    },
    {
      "cell_type": "markdown",
      "source": [
        "========================================================\n"
      ],
      "metadata": {
        "id": "Q-66Ph7ixyeB"
      }
    },
    {
      "cell_type": "code",
      "source": [
        "from ast import Str\n",
        "from pickle import STRING\n",
        "dia = int(input('Digite o dia do seu nascimento: '))\n",
        "mes = str(input('Digite o mes do seu nascimento: '))\n",
        "ano = int(input('Digite o Ano do seu Nascimento: '))\n",
        "print('Você nasceu no dia {} de {} de {}'.format(dia, mes, ano))\n"
      ],
      "metadata": {
        "colab": {
          "base_uri": "https://localhost:8080/"
        },
        "id": "bW9aHM6byhCR",
        "outputId": "88883978-3b8f-497f-a624-2bd9eb4ab93e"
      },
      "execution_count": null,
      "outputs": [
        {
          "output_type": "stream",
          "name": "stdout",
          "text": [
            "Digite o dia do seu nascimento: 16\n",
            "Digite o mes do seu nascimento: maio\n",
            "Digite o Ano do seu Nascimento: 1979\n",
            "Você nasceu no dia 16 de maio de 1979\n"
          ]
        }
      ]
    },
    {
      "cell_type": "code",
      "source": [
        "n1 = int(input('Primeiro numero: '))\n",
        "n2 = int(input('Segundo numero: '))\n",
        "if n1 > n2:\n",
        "  print('Primeiro numero é maior')\n",
        "elif n1 < n2:\n",
        "  print('Segundo numero maior')\n",
        "else: \n",
        "  print('Numeros Iguais')\n"
      ],
      "metadata": {
        "colab": {
          "base_uri": "https://localhost:8080/"
        },
        "id": "_ySKI1j15_aU",
        "outputId": "6fad908e-3606-431f-e1e6-c730e09b80d9"
      },
      "execution_count": null,
      "outputs": [
        {
          "output_type": "stream",
          "name": "stdout",
          "text": [
            "Primeiro numero: 9\n",
            "Segundo numero: 1\n",
            "Primeiro numero é maior\n"
          ]
        }
      ]
    }
  ]
}