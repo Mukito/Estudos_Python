{
  "nbformat": 4,
  "nbformat_minor": 0,
  "metadata": {
    "colab": {
      "provenance": [],
      "authorship_tag": "ABX9TyPwq9uTw+VjtcRCC+bNte+T",
      "include_colab_link": true
    },
    "kernelspec": {
      "name": "python3",
      "display_name": "Python 3"
    },
    "language_info": {
      "name": "python"
    }
  },
  "cells": [
    {
      "cell_type": "markdown",
      "metadata": {
        "id": "view-in-github",
        "colab_type": "text"
      },
      "source": [
        "<a href=\"https://colab.research.google.com/github/Mukito/21/blob/master/Estudos_Python.ipynb\" target=\"_parent\"><img src=\"https://colab.research.google.com/assets/colab-badge.svg\" alt=\"Open In Colab\"/></a>"
      ]
    },
    {
      "cell_type": "code",
      "source": [],
      "metadata": {
        "id": "NJbbAIHaTmst"
      },
      "execution_count": null,
      "outputs": []
    },
    {
      "cell_type": "markdown",
      "source": [
        "***=================================================================***"
      ],
      "metadata": {
        "id": "SNmUA3czTXcg"
      }
    },
    {
      "cell_type": "markdown",
      "source": [
        "*** 1 - Faça um Programa que mostre a mensagem \"Alo mundo\" na tela. ***"
      ],
      "metadata": {
        "id": "y9fZh5Nj0Ubr"
      }
    },
    {
      "cell_type": "code",
      "source": [
        "print('Ola Mundo ') "
      ],
      "metadata": {
        "id": "t6oB5yDQ0Shz"
      },
      "execution_count": null,
      "outputs": []
    },
    {
      "cell_type": "markdown",
      "source": [
        "*** 2 - Faça um Programa que peça um número e então mostre a mensagem O número informado foi [número].***"
      ],
      "metadata": {
        "id": "i2zRat650B4N"
      }
    },
    {
      "cell_type": "code",
      "source": [
        "num = int(input('Digite um numero: '))\n",
        "print(' o numero informado foi:', num)"
      ],
      "metadata": {
        "id": "BdBXYWbc1KUS"
      },
      "execution_count": null,
      "outputs": []
    },
    {
      "cell_type": "markdown",
      "source": [
        "*** 3 - Faça um Programa que peça dois números e imprima a soma. ***"
      ],
      "metadata": {
        "id": "vQsAhNa40pgi"
      }
    },
    {
      "cell_type": "code",
      "execution_count": null,
      "metadata": {
        "id": "3-oenlpnl-wJ"
      },
      "outputs": [],
      "source": [
        "num1 = int(input('Digite um numero: '))\n",
        "num2 = int(input('Digite um outro numero: '))\n",
        "soma = (num1 + num2)\n",
        "print('A soma dos numeros é: ', soma)"
      ]
    },
    {
      "cell_type": "markdown",
      "source": [
        "***4 - Faça um Programa que peça as 4 notas bimestrais e mostre a média.***"
      ],
      "metadata": {
        "id": "QOJJAgI71k1y"
      }
    },
    {
      "cell_type": "code",
      "source": [
        "n1 = float(input('Digite sua 1 nota: '))\n",
        "n2 = float(input('Digite sua 2 nota: '))\n",
        "n3 = float(input('Digite sua 3 nota: '))\n",
        "n4 = float(input('Digite sua 4 nota: '))\n",
        "m = (n1 + n2 + n3 + n4)/4\n",
        "print('Sua media é: ', m)"
      ],
      "metadata": {
        "id": "IpfQuJsj1q5J"
      },
      "execution_count": null,
      "outputs": []
    },
    {
      "cell_type": "markdown",
      "source": [
        "***5 - Faça um Programa que converta metros para centímetros. ***"
      ],
      "metadata": {
        "id": "O5pNEwkV2jZo"
      }
    },
    {
      "cell_type": "code",
      "source": [
        "metros = float(input('Digite quantos metros: '))\n",
        "cen = metros * 100;\n",
        "print(cen, 'Centimetros')\n"
      ],
      "metadata": {
        "id": "HMydc8yJ2qtR",
        "colab": {
          "base_uri": "https://localhost:8080/"
        },
        "outputId": "c7079fdd-8ca1-4cec-fd3b-b3b0ea7b2a3e"
      },
      "execution_count": null,
      "outputs": [
        {
          "output_type": "stream",
          "name": "stdout",
          "text": [
            "Digite quantos metros: 5\n",
            "500.0 Centimetros\n"
          ]
        }
      ]
    },
    {
      "cell_type": "code",
      "source": [
        "metros = float(input('Digite o tamanho em metros: '))\n",
        "print('O valor {}m em centimetros é {:.0f}cm'.format(metros, metros * 100))\n",
        "print('O valor {}m em milimetros é {:.0f}mm'.format(metros, metros * 1000))\n",
        "#simples é facil"
      ],
      "metadata": {
        "colab": {
          "base_uri": "https://localhost:8080/"
        },
        "id": "5PNbhJ9uwK-N",
        "outputId": "e79c5e22-4ded-4437-eaad-9b94407c36f0"
      },
      "execution_count": null,
      "outputs": [
        {
          "output_type": "stream",
          "name": "stdout",
          "text": [
            "Digite o tamanho em metros: 10\n",
            "O valor 10.0m em centimetros é 1000cm\n",
            "O valor 10.0m em milimetros é 10000mm\n"
          ]
        }
      ]
    },
    {
      "cell_type": "markdown",
      "source": [
        "========================================================\n"
      ],
      "metadata": {
        "id": "Q-66Ph7ixyeB"
      }
    },
    {
      "cell_type": "code",
      "source": [
        "from ast import Str\n",
        "from pickle import STRING\n",
        "dia = int(input('Digite o dia do seu nascimento: '))\n",
        "mes = str(input('Digite o mes do seu nascimento: '))\n",
        "ano = int(input('Digite o Ano do seu Nascimento: '))\n",
        "print('Você nasceu no dia {} de {} de {}'.format(dia, mes, ano))\n"
      ],
      "metadata": {
        "colab": {
          "base_uri": "https://localhost:8080/"
        },
        "id": "bW9aHM6byhCR",
        "outputId": "88883978-3b8f-497f-a624-2bd9eb4ab93e"
      },
      "execution_count": null,
      "outputs": [
        {
          "output_type": "stream",
          "name": "stdout",
          "text": [
            "Digite o dia do seu nascimento: 16\n",
            "Digite o mes do seu nascimento: maio\n",
            "Digite o Ano do seu Nascimento: 1979\n",
            "Você nasceu no dia 16 de maio de 1979\n"
          ]
        }
      ]
    },
    {
      "cell_type": "code",
      "source": [
        "n1 = int(input('Primeiro numero: '))\n",
        "n2 = int(input('Segundo numero: '))\n",
        "if n1 > n2:\n",
        "  print('Primeiro numero é maior')\n",
        "elif n1 < n2:\n",
        "  print('Segundo numero maior')\n",
        "else: \n",
        "  print('Numeros Iguais')\n"
      ],
      "metadata": {
        "colab": {
          "base_uri": "https://localhost:8080/"
        },
        "id": "_ySKI1j15_aU",
        "outputId": "6fad908e-3606-431f-e1e6-c730e09b80d9"
      },
      "execution_count": null,
      "outputs": [
        {
          "output_type": "stream",
          "name": "stdout",
          "text": [
            "Primeiro numero: 9\n",
            "Segundo numero: 1\n",
            "Primeiro numero é maior\n"
          ]
        }
      ]
    }
  ]
}